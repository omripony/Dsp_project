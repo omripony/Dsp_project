{
  "nbformat": 4,
  "nbformat_minor": 0,
  "metadata": {
    "colab": {
      "provenance": []
    },
    "kernelspec": {
      "name": "python3",
      "display_name": "Python 3"
    },
    "language_info": {
      "name": "python"
    }
  },
  "cells": [
    {
      "cell_type": "code",
      "execution_count": 3,
      "metadata": {
        "id": "zN5xtQRrLmCJ"
      },
      "outputs": [],
      "source": [
        "import numpy as np\n",
        "\n",
        "# Load the data from the file\n",
        "# Assuming the data is numerical and stored in a plain text format, one number per line\n",
        "data = np.loadtxt('raw_data.txt')\n",
        "\n",
        "# Convert the column vector to a row vector\n",
        "data_row = data.reshape(-1)  # This step might be redundant if 'data' is already in the correct shape\n",
        "\n",
        "# Create a string with commas separating the data samples\n",
        "data_string = \",\".join(map(str, data_row))\n",
        "\n",
        "# Write the string to a new text file\n",
        "with open('raw_data_ready_to_use.txt', 'w') as file:\n",
        "    file.write(data_string)\n"
      ]
    }
  ]
}